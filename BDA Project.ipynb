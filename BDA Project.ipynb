{
  "cells": [
    {
      "cell_type": "markdown",
      "id": "c7564614-15a4-4403-bee5-e47ec412f744",
      "metadata": {
        "id": "c7564614-15a4-4403-bee5-e47ec412f744"
      },
      "source": [
        "# Big Data Analytics Project\n",
        "Project work of Data Mining, Text Mining and Big Data Analytics - Master Degree in Artificial Intelligence\n",
        "\n",
        "Vorabbi Sara - 0001026226 - sara.vorabbi@studio.unibo.it"
      ]
    },
    {
      "cell_type": "code",
      "execution_count": 1,
      "id": "aac28684-b2ff-452d-a620-871949a88099",
      "metadata": {
        "id": "aac28684-b2ff-452d-a620-871949a88099",
        "outputId": "897452ea-8e77-4355-e02e-745645c56c9f",
        "colab": {
          "base_uri": "https://localhost:8080/"
        }
      },
      "outputs": [
        {
          "output_type": "stream",
          "name": "stdout",
          "text": [
            "Requirement already satisfied: pyspark in /usr/local/lib/python3.10/dist-packages (3.5.3)\n",
            "Requirement already satisfied: py4j==0.10.9.7 in /usr/local/lib/python3.10/dist-packages (from pyspark) (0.10.9.7)\n"
          ]
        }
      ],
      "source": [
        "!pip install pyspark"
      ]
    },
    {
      "cell_type": "code",
      "execution_count": 2,
      "id": "cb5d54be-bed0-45e6-af21-b6c711802ebb",
      "metadata": {
        "id": "cb5d54be-bed0-45e6-af21-b6c711802ebb"
      },
      "outputs": [],
      "source": [
        "import pyspark\n",
        "from pyspark.sql import SparkSession\n",
        "from pyspark.sql.types import StructType, StructField, IntegerType, DoubleType\n",
        "from pyspark.sql.functions import col\n",
        "\n",
        "from pyspark.ml.feature import VectorAssembler, MinMaxScaler\n",
        "from pyspark.ml.classification import RandomForestClassifier, NaiveBayes, LogisticRegression, OneVsRest\n",
        "from pyspark.ml.evaluation import MulticlassClassificationEvaluator\n",
        "from pyspark.mllib.evaluation import MulticlassMetrics"
      ]
    },
    {
      "cell_type": "code",
      "execution_count": 3,
      "id": "d740588f-741e-4c2a-a598-147a694c10c8",
      "metadata": {
        "id": "d740588f-741e-4c2a-a598-147a694c10c8"
      },
      "outputs": [],
      "source": [
        "# Create a Spark session\n",
        "spark = SparkSession.builder \\\n",
        "    .appName(\"BDA_Project\") \\\n",
        "    .getOrCreate()"
      ]
    },
    {
      "cell_type": "code",
      "execution_count": null,
      "id": "e19a17d2-22e1-4afc-ad9b-c24104db855c",
      "metadata": {
        "id": "e19a17d2-22e1-4afc-ad9b-c24104db855c"
      },
      "outputs": [],
      "source": []
    },
    {
      "cell_type": "code",
      "execution_count": null,
      "id": "aedc789e-246c-4f76-a801-b981bec24625",
      "metadata": {
        "id": "aedc789e-246c-4f76-a801-b981bec24625"
      },
      "outputs": [],
      "source": []
    }
  ],
  "metadata": {
    "kernelspec": {
      "display_name": "Python 3 (ipykernel)",
      "language": "python",
      "name": "python3"
    },
    "language_info": {
      "codemirror_mode": {
        "name": "ipython",
        "version": 3
      },
      "file_extension": ".py",
      "mimetype": "text/x-python",
      "name": "python",
      "nbconvert_exporter": "python",
      "pygments_lexer": "ipython3",
      "version": "3.12.7"
    },
    "colab": {
      "provenance": []
    }
  },
  "nbformat": 4,
  "nbformat_minor": 5
}