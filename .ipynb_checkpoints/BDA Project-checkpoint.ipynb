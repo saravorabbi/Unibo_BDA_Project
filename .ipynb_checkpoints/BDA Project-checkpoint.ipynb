{
 "cells": [
  {
   "cell_type": "markdown",
   "id": "c7564614-15a4-4403-bee5-e47ec412f744",
   "metadata": {},
   "source": [
    "# Big Data Analytics Project\n",
    "Project work of Data Mining, Text Mining and Big Data Analytics - Master Degree in Artificial Intelligence\n",
    "\n",
    "Vorabbi Sara - 0001026226 - sara.vorabbi@studio.unibo.it"
   ]
  },
  {
   "cell_type": "code",
   "execution_count": 1,
   "id": "aac28684-b2ff-452d-a620-871949a88099",
   "metadata": {},
   "outputs": [],
   "source": []
  },
  {
   "cell_type": "code",
   "execution_count": null,
   "id": "cb5d54be-bed0-45e6-af21-b6c711802ebb",
   "metadata": {},
   "outputs": [],
   "source": []
  },
  {
   "cell_type": "code",
   "execution_count": null,
   "id": "d740588f-741e-4c2a-a598-147a694c10c8",
   "metadata": {},
   "outputs": [],
   "source": []
  },
  {
   "cell_type": "code",
   "execution_count": null,
   "id": "e19a17d2-22e1-4afc-ad9b-c24104db855c",
   "metadata": {},
   "outputs": [],
   "source": []
  },
  {
   "cell_type": "code",
   "execution_count": null,
   "id": "aedc789e-246c-4f76-a801-b981bec24625",
   "metadata": {},
   "outputs": [],
   "source": []
  }
 ],
 "metadata": {
  "kernelspec": {
   "display_name": "Python 3 (ipykernel)",
   "language": "python",
   "name": "python3"
  },
  "language_info": {
   "codemirror_mode": {
    "name": "ipython",
    "version": 3
   },
   "file_extension": ".py",
   "mimetype": "text/x-python",
   "name": "python",
   "nbconvert_exporter": "python",
   "pygments_lexer": "ipython3",
   "version": "3.12.7"
  }
 },
 "nbformat": 4,
 "nbformat_minor": 5
}
